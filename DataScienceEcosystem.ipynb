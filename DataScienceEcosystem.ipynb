{
 "cells": [
  {
   "cell_type": "markdown",
   "id": "f865ed19-b062-428c-86ca-7dcaf7df4a04",
   "metadata": {},
   "source": [
    "# Data Science Tools and Ecosystem"
   ]
  },
  {
   "cell_type": "markdown",
   "id": "449d3e81-6ca8-4473-9eab-e096f7b20c7b",
   "metadata": {},
   "source": [
    "In this notebook, Data Science Tools and Ecosystem are summarized."
   ]
  },
  {
   "cell_type": "markdown",
   "id": "47404096-1e8c-4300-bc1b-d19eb3eaffda",
   "metadata": {},
   "source": [
    "**Objectives**"
   ]
  },
  {
   "cell_type": "markdown",
   "id": "a49752fc-ad11-4662-ab4d-4b16f33bc2da",
   "metadata": {},
   "source": [
    "- List of popular languages for Data Science.\n",
    "- List of common used libraries for Data Science.\n",
    "- List of few Data Science Tools."
   ]
  },
  {
   "cell_type": "markdown",
   "id": "593bbedc-1328-46de-96f4-00d7b4efc88c",
   "metadata": {},
   "source": [
    "Some of the popular languages that Data Scientists use are:\n",
    "1. Python\n",
    "2. SQL\n",
    "3. R"
   ]
  },
  {
   "cell_type": "markdown",
   "id": "724feb0d-99bc-4f81-9f5e-a5c5bf57daed",
   "metadata": {},
   "source": [
    "Some of the commonly used libraries used by Data Scientists include:\n",
    "1. Pandas\n",
    "2. Numpy\n",
    "3. Matplotlib"
   ]
  },
  {
   "cell_type": "markdown",
   "id": "69287361-7c4e-4813-8f88-fd7935616269",
   "metadata": {},
   "source": [
    "| Data Science Tools  |\n",
    "|---|\n",
    "| Rstudio  |\n",
    "| Watson Studio  |\n",
    "| Jupyterlab/notebook  |\n"
   ]
  },
  {
   "cell_type": "markdown",
   "id": "570a5705-ca5f-4ed6-939f-23a55d66c9b7",
   "metadata": {},
   "source": [
    "### Below are a few examples of evaluating arithmetic expressions in Python.\n"
   ]
  },
  {
   "cell_type": "code",
   "execution_count": 1,
   "id": "7ed54410-0381-4262-a4eb-5b40ca766955",
   "metadata": {},
   "outputs": [
    {
     "data": {
      "text/plain": [
       "17"
      ]
     },
     "execution_count": 1,
     "metadata": {},
     "output_type": "execute_result"
    }
   ],
   "source": [
    "# This a simple arithmetic expression to mutiply then add integers\n",
    "(3*4)+5"
   ]
  },
  {
   "cell_type": "code",
   "execution_count": 2,
   "id": "78bbe8cb-67cb-4efa-8679-fc1747d85b19",
   "metadata": {},
   "outputs": [
    {
     "name": "stdout",
     "output_type": "stream",
     "text": [
      "3.3333333333333335 hours\n"
     ]
    }
   ],
   "source": [
    "# This will convert 200 minutes to hours by diving by 60.\n",
    "minute = 200\n",
    "hour = minute/60\n",
    "print(f\"{hour} hours\")"
   ]
  },
  {
   "cell_type": "markdown",
   "id": "a80d75a8-5a2d-4330-8a3f-6208cf5193e6",
   "metadata": {},
   "source": [
    "## AUTHOR"
   ]
  },
  {
   "cell_type": "markdown",
   "id": "0c3e7249-13a3-4657-82a9-173cdfc0698b",
   "metadata": {},
   "source": [
    "Muharrem Batuhan ÇERİ"
   ]
  }
 ],
 "metadata": {
  "kernelspec": {
   "display_name": "Python 3",
   "language": "python",
   "name": "python3"
  },
  "language_info": {
   "codemirror_mode": {
    "name": "ipython",
    "version": 3
   },
   "file_extension": ".py",
   "mimetype": "text/x-python",
   "name": "python",
   "nbconvert_exporter": "python",
   "pygments_lexer": "ipython3",
   "version": "3.7.9"
  },
  "vscode": {
   "interpreter": {
    "hash": "5cdc3277f3df5e26a37d16b2bc554a4744037161c458ccd2919bf3282307f626"
   }
  }
 },
 "nbformat": 4,
 "nbformat_minor": 5
}
